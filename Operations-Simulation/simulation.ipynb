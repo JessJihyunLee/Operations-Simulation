{
 "cells": [
  {
   "cell_type": "code",
   "execution_count": 6,
   "metadata": {},
   "outputs": [],
   "source": [
    "import pandas as pd\n",
    "import numpy as np\n",
    "from pandas import DataFrame, Series\n",
    "import simpy\n",
    "from math import ceil"
   ]
  },
  {
   "cell_type": "code",
   "execution_count": 75,
   "metadata": {},
   "outputs": [],
   "source": [
    "# Supplier\n",
    "attach_rate = 0.5\n",
    "supplier_capacity = 1000\n",
    "supply_unit = 40\n",
    "supply_deliver_unit = 32\n",
    "supply_logistic_lead_time = 2\n",
    "\n",
    "# Manufacturer\n",
    "manufacturer_capacity = 1000\n",
    "manufacturing_capacity = 10\n",
    "manufacture_deliver_unit = 8\n",
    "manufacture_logistic_lead_time = 2"
   ]
  },
  {
   "cell_type": "markdown",
   "metadata": {},
   "source": [
    "SimPy is (like most simulation frameworks) a single-threaded, deterministic library. It processes events sequentially – one after another. If two events are scheduled at the same time, the one that is scheduled first will also be the processed first (FIFO) </br>\n",
    "\n",
    "Container vs. Resource vs. Store\n",
    "* Container : Containers model the production and consumption of a homogeneous, undifferentiated bulk. It may either be continuous (like water) or discrete (like apples).\n",
    "* Resource : These resources can be used by a limited number of processes at a time (e.g., a gas station with a limited number of fuel pumps)\n",
    "* Store : Stores model the production and consumption of concrete objects. The object type is, by default, not restricted. A single Store can even contain multiple types of objects."
   ]
  },
  {
   "cell_type": "code",
   "execution_count": 113,
   "metadata": {},
   "outputs": [],
   "source": [
    "class Supplier(object):\n",
    "    def __init__(self, env, manufacturefacility, supplier_capacity, supply_unit, deliver_unit, logistic_lead_time):\n",
    "        self.env = env\n",
    "\n",
    "        # Container - can fill & consume 1 raw material\n",
    "        self.capacity = simpy.Container(env, capacity = supplier_capacity, init = 0)\n",
    "\n",
    "        # Async Processes\n",
    "        self.env.process(self.supply(supply_unit))\n",
    "        self.env.process(self.deliver(deliver_unit, logistic_lead_time, manufacturefacility))\n",
    "\n",
    "    def supply(self, supply_unit):\n",
    "        while True:\n",
    "            # Collect raw materials (supply_unit) daily\n",
    "            yield self.env.timeout(1)\n",
    "            yield self.capacity.put(supply_unit)\n",
    "            print(\"Current supplier inventory is %d at %d\" % (self.capacity.level, self.env.now))\n",
    "            \n",
    "    def deliver(self, deliver_unit, logistic_lead_time, manufacturefacility):\n",
    "        while True:\n",
    "            # If there are enough units, deliver after lead time\n",
    "            if deliver_unit <= self.capacity.level:\n",
    "                yield self.env.timeout(logistic_lead_time)\n",
    "                # Get units from supplier then put units to manufacturer\n",
    "                event_get =  self.capacity.get(deliver_unit)\n",
    "                event_put =  manufacturefacility.raw_material.put(deliver_unit)\n",
    "                yield self.env.all_of([event_get, event_put])\n",
    "                print(\"Deliver %d units to Manufacturer at %d\" % (deliver_unit, self.env.now))\n",
    "            # If not, try delivery next day\n",
    "            else:\n",
    "                yield self.env.timeout(1)\n",
    "\n",
    "\n",
    "class ManufactureFacility(object):\n",
    "    def __init__(self, env, manufacturing_capacity, attach_rate, manufacturer_capacity, deliver_unit, logistic_lead_time) :\n",
    "        # super().__init__(sim=sim)\n",
    "        self.env = env\n",
    "        self.manufacturing_capacity = manufacturing_capacity\n",
    "        self.manufacturer_capacity = manufacturer_capacity\n",
    "\n",
    "        # Container for raw material & manufactured goods\n",
    "        self.raw_material = simpy.Container(env, capacity=(manufacturer_capacity/attach_rate), init=0)\n",
    "        self.capacity = simpy.Container(env, capacity=manufacturer_capacity, init=0)\n",
    "\n",
    "        # Async Processes\n",
    "        self.env.process(self.manufacture(attach_rate))\n",
    "        self.env.process(self.deliver(deliver_unit, logistic_lead_time))\n",
    "        # yield env.any_of([event_a, event_b, event_c])\n",
    "\n",
    "    def check_supplier_delivery(self):\n",
    "        while True:\n",
    "            yield self.env.timeout(1)\n",
    "            check = self.raw_material.level\n",
    "            return check\n",
    "\n",
    "    def manufacture(self, attach_rate):\n",
    "        while True:\n",
    "            # Manufacture using all existing raw materials but within manufacturing capacity\n",
    "            units = round(attach_rate * self.raw_material.level)\n",
    "            units = min(units, self.manufacturing_capacity)\n",
    "\n",
    "            # Manufacture goods daily\n",
    "            if units > 0:\n",
    "                # manufacture goods immediately\n",
    "                yield self.capacity.put(units)\n",
    "                yield self.raw_material.get(units/attach_rate)\n",
    "                print(\"Manufacture %d units at %d\" % (units, self.env.now))\n",
    "                print(\"Current manufactured goods inventory is %d at %d\" % (self.capacity.level, self.env.now))\n",
    "                # Start the new day\n",
    "                yield self.env.timeout(1)\n",
    "            else:\n",
    "                # No action required, wait until there's enough raw materials\n",
    "                yield self.env.timeout(1)    \n",
    "\n",
    "\n",
    "    def deliver(self, deliver_unit, logistic_lead_time):\n",
    "        while True:\n",
    "            # If there are enough units, deliver after lead time\n",
    "            if deliver_unit <= self.capacity.level:\n",
    "                yield self.env.timeout(logistic_lead_time)\n",
    "                yield self.capacity.get(deliver_unit)\n",
    "                print(\"Deliver %d units to Distribution Hub at %d\" % (deliver_unit, self.env.now))\n",
    "            # If not, try delivery next day\n",
    "            else:\n",
    "                yield self.env.timeout(1)\n",
    "\n"
   ]
  },
  {
   "cell_type": "code",
   "execution_count": 114,
   "metadata": {},
   "outputs": [
    {
     "name": "stdout",
     "output_type": "stream",
     "text": [
      "Current supplier inventory is 40 at 1\n",
      "Current supplier inventory is 80 at 2\n",
      "Current supplier inventory is 88 at 3\n",
      "Deliver 32 units to Manufacturer at 3\n",
      "Manufacture 10 units at 3\n",
      "Current manufactured goods inventory is 10 at 3\n",
      "Current supplier inventory is 128 at 4\n",
      "Manufacture 6 units at 4\n",
      "Current manufactured goods inventory is 16 at 4\n",
      "Deliver 8 units to Distribution Hub at 5\n",
      "Current supplier inventory is 136 at 5\n",
      "Deliver 32 units to Manufacturer at 5\n",
      "Manufacture 10 units at 5\n",
      "Current manufactured goods inventory is 18 at 5\n",
      "Current supplier inventory is 176 at 6\n",
      "Manufacture 6 units at 6\n",
      "Current manufactured goods inventory is 24 at 6\n",
      "Deliver 8 units to Distribution Hub at 7\n",
      "Current supplier inventory is 184 at 7\n",
      "Deliver 32 units to Manufacturer at 7\n",
      "Manufacture 10 units at 7\n",
      "Current manufactured goods inventory is 26 at 7\n",
      "Current supplier inventory is 224 at 8\n",
      "Manufacture 6 units at 8\n",
      "Current manufactured goods inventory is 32 at 8\n",
      "Deliver 8 units to Distribution Hub at 9\n",
      "Current supplier inventory is 232 at 9\n",
      "Deliver 32 units to Manufacturer at 9\n",
      "Manufacture 10 units at 9\n",
      "Current manufactured goods inventory is 34 at 9\n",
      "Current supplier inventory is 272 at 10\n",
      "Manufacture 6 units at 10\n",
      "Current manufactured goods inventory is 40 at 10\n",
      "Deliver 8 units to Distribution Hub at 11\n",
      "Current supplier inventory is 280 at 11\n",
      "Deliver 32 units to Manufacturer at 11\n",
      "Manufacture 10 units at 11\n",
      "Current manufactured goods inventory is 42 at 11\n"
     ]
    }
   ],
   "source": [
    "env = simpy.Environment()\n",
    "manufacturer = ManufactureFacility(env,\n",
    "      manufacturer_capacity=manufacturer_capacity,\n",
    "      attach_rate = attach_rate,\n",
    "      manufacturing_capacity=manufacturing_capacity,\n",
    "      deliver_unit=manufacture_deliver_unit,\n",
    "      logistic_lead_time=manufacture_logistic_lead_time)\n",
    "\n",
    "supplier = Supplier(env, manufacturefacility=manufacturer,\\\n",
    "      supplier_capacity=supplier_capacity,\n",
    "      supply_unit = supply_unit,\n",
    "      deliver_unit=supply_deliver_unit,\n",
    "      logistic_lead_time=supply_logistic_lead_time)\n",
    "\n",
    "env.run(until=12)"
   ]
  },
  {
   "cell_type": "code",
   "execution_count": 60,
   "metadata": {},
   "outputs": [
    {
     "data": {
      "text/plain": [
       "60"
      ]
     },
     "execution_count": 60,
     "metadata": {},
     "output_type": "execute_result"
    }
   ],
   "source": [
    "supplier.capacity.level"
   ]
  },
  {
   "cell_type": "code",
   "execution_count": null,
   "metadata": {},
   "outputs": [],
   "source": []
  }
 ],
 "metadata": {
  "interpreter": {
   "hash": "d0dbbacc60bdc17142d6ef17acb9c572dc3fadb366681cbc9cebe211fa1d48cc"
  },
  "kernelspec": {
   "display_name": "Python 3.9.7 ('base')",
   "language": "python",
   "name": "python3"
  },
  "language_info": {
   "codemirror_mode": {
    "name": "ipython",
    "version": 3
   },
   "file_extension": ".py",
   "mimetype": "text/x-python",
   "name": "python",
   "nbconvert_exporter": "python",
   "pygments_lexer": "ipython3",
   "version": "3.9.7"
  },
  "orig_nbformat": 4
 },
 "nbformat": 4,
 "nbformat_minor": 2
}
